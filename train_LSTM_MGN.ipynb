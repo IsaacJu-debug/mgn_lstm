{
 "cells": [
  {
   "cell_type": "markdown",
   "metadata": {
    "id": "68xciFLokMp1"
   },
   "source": [
    "# PyG Implementation of LSTM_MGN wiht PEBI data"
   ]
  },
  {
   "cell_type": "markdown",
   "metadata": {
    "id": "tY-FGeVfxWsM"
   },
   "source": [
    "Install all dependencies using:\n",
    "\n",
    "`source setup_env.sh`"
   ]
  },
  {
   "cell_type": "markdown",
   "metadata": {
    "id": "aOPVoQHfzjjl"
   },
   "source": [
    "Now, let's import all of the dependencies that we need for importing and processing data, as well as building, training, and evaluating our model!"
   ]
  },
  {
   "cell_type": "code",
   "execution_count": 1,
   "metadata": {
    "id": "4rdy0DtL6Oh8"
   },
   "outputs": [],
   "source": [
    "import os\n",
    "import torch\n",
    "import random\n",
    "import pandas as pd\n",
    "import torch_scatter\n",
    "import torch.nn as nn\n",
    "from torch.nn import Linear, Sequential, LayerNorm, ReLU\n",
    "from torch_geometric.nn.conv import MessagePassing\n",
    "from torch_geometric.loader import DataLoader\n",
    "from torch_geometric_temporal.nn.recurrent import GConvLSTM\n",
    "\n",
    "import numpy as np\n",
    "import time\n",
    "import torch.optim as optim\n",
    "from tqdm import trange\n",
    "import pandas as pd\n",
    "import copy\n",
    "import matplotlib.pyplot as plt\n"
   ]
  },
  {
   "cell_type": "code",
   "execution_count": 2,
   "metadata": {},
   "outputs": [],
   "source": [
    "import mesh_model\n",
    "import stats\n",
    "from uti_func import ErrorMetrics, count_model_params"
   ]
  },
  {
   "cell_type": "markdown",
   "metadata": {
    "id": "sqAucscvFWSq"
   },
   "source": [
    "# Preparing and Loading the Dataset\n",
    "\n",
    "Here we show how we processed the dataset to prepare it to work with PyG. We also provided some pre-processed datasets that you can use directly. We first converted these to h5 format to make the data easier to handle with PyTorch and NumPy. This is then processed below."
   ]
  },
  {
   "cell_type": "markdown",
   "metadata": {
    "id": "9NMQzPUHjAlw"
   },
   "source": [
    "First, we need to define the root directory and the directories of the datasets, where to save the checkpoint, and where to store animations. The defaults given below will work if you followed the instructions in the first cell above."
   ]
  },
  {
   "cell_type": "code",
   "execution_count": 3,
   "metadata": {
    "id": "_PGF9mhuOu7A"
   },
   "outputs": [],
   "source": [
    "root_dir = os.getcwd()\n",
    "dataset_dir = os.path.join(root_dir, 'datasets')\n",
    "checkpoint_dir = os.path.join(root_dir, 'best_models')\n",
    "postprocess_dir = os.path.join(root_dir, 'animations')\n",
    "modelsummary_dir = os.path.join(root_dir, 'model_details')"
   ]
  },
  {
   "cell_type": "code",
   "execution_count": 4,
   "metadata": {
    "colab": {
     "base_uri": "https://localhost:8080/"
    },
    "executionInfo": {
     "elapsed": 4,
     "status": "ok",
     "timestamp": 1658843225943,
     "user": {
      "displayName": "Xin Ju",
      "userId": "07431887039181781801"
     },
     "user_tz": 300
    },
    "id": "4Gvq_haxzRRj",
    "outputId": "27efc863-38c3-487d-d192-abbac1d28d90"
   },
   "outputs": [
    {
     "name": "stdout",
     "output_type": "stream",
     "text": [
      "dataset_dir /data/gpfs/Users/l1072924/04_pebi/datasets\n"
     ]
    }
   ],
   "source": [
    "print(\"dataset_dir {}\".format(dataset_dir))"
   ]
  },
  {
   "cell_type": "code",
   "execution_count": 5,
   "metadata": {
    "id": "ICUaGvLAcAMa"
   },
   "outputs": [],
   "source": [
    "import numpy as np\n",
    "import torch\n",
    "import h5py\n",
    "import functools\n",
    "import json\n",
    "from torch_geometric.data import Data\n",
    "import enum"
   ]
  },
  {
   "cell_type": "markdown",
   "metadata": {
    "id": "DIze-W5cO9wR"
   },
   "source": [
    "## Read preprocessed data\n",
    "\n",
    "The preprocessed data is prepared with another script that translates the direct outputs from GEOSX, field histories and connectivity, to the input and label data. Also, special treatment is needed for the input to be compatible with torch-geometric"
   ]
  },
  {
   "cell_type": "code",
   "execution_count": 8,
   "metadata": {
    "colab": {
     "base_uri": "https://localhost:8080/"
    },
    "executionInfo": {
     "elapsed": 1751,
     "status": "ok",
     "timestamp": 1658843245673,
     "user": {
      "displayName": "Xin Ju",
      "userId": "07431887039181781801"
     },
     "user_tz": 300
    },
    "id": "c0_1uCSJFn-M",
    "outputId": "e2258fcb-b812-4233-f574-e1d784a37204"
   },
   "outputs": [
    {
     "name": "stdout",
     "output_type": "stream",
     "text": [
      "[Data(x=[1775, 7], edge_index=[2, 10142], edge_attr=[10142, 4], y=[1775, 20], mesh_pos=[1775, 3])]\n"
     ]
    }
   ],
   "source": [
    "file_path=os.path.join(dataset_dir, 'PEBI_Lstm_skip5.pt')\n",
    "dataset_full_timesteps = torch.load(file_path)\n",
    "dataset = torch.load(file_path)[:1]\n",
    "\n",
    "print(dataset)"
   ]
  },
  {
   "cell_type": "markdown",
   "metadata": {
    "id": "XXyUJoHfG7-M"
   },
   "source": [
    "# Training and Testing\n",
    "\n",
    "Here we define our training and testing + validation pipelines. Note that these standard given that we defined our MeshGraphNets class to inherit from torch.nn.Module, like a standard PyTorch neural network!\n",
    "\n",
    "train() iterates through the data for the specified number of epochs, calling the MeshGraphNets class forward functions to get the final decoded node values, and calling the loss function to calculate loss given ground truth data. This is then backpropagated through the network using PyTorch built-in modules to optimize the learned parameters of the MLPs of MeshGraphNets.\n",
    "\n",
    "For every tenth epoch (to save computation time), the test loss is calculated on the test dataset, and the validation loss is calculated by calculating the velocities from the predicted accelerations of the network. These are added to the returned performance lists. The code below is commented by line for further explanation."
   ]
  },
  {
   "cell_type": "markdown",
   "metadata": {},
   "source": [
    "## Train function"
   ]
  },
  {
   "cell_type": "code",
   "execution_count": 39,
   "metadata": {
    "id": "frqF21UoHJ6m"
   },
   "outputs": [],
   "source": [
    "def train(dataset, device, stats_list, args, PATH=None):\n",
    "    '''\n",
    "    Performs a training loop on the dataset for MeshGraphNets. Also calls\n",
    "    test and validation functions.\n",
    "    '''\n",
    "\n",
    "    df = pd.DataFrame(columns=['epoch','train_loss','test_loss', 'velo_val_loss'])\n",
    "\n",
    "    #Define the model name for saving \n",
    "    model_name= args.model+ '_data_' + args.data_type + '_roll_num_' + str(args.rollout_num) +\\\n",
    "                   '_well_weight_' + str(args.well_weight) +\\\n",
    "                  '_norm'+ str(args.normalized)+ '_model_nl'+str(args.num_layers)+'_bs'+str(args.batch_size) + \\\n",
    "               '_hd'+str(args.hidden_dim)+'_ep'+str(args.epochs)+'_wd'+str(args.weight_decay) + \\\n",
    "               '_lr'+str(args.lr)+'_shuff_'+str(args.shuffle)+'_tr'+str(args.train_size)+'_te'+str(args.test_size)\n",
    "\n",
    "    args.anim_name = model_name\n",
    "    #torch_geometric DataLoaders are used for handling the data of lists of graphs\n",
    "    loader = DataLoader(dataset[:args.train_size], batch_size=args.batch_size, shuffle=False) # each LSTM takes mesh_sizes * timestep\n",
    "    test_loader = DataLoader(dataset[args.train_size:], batch_size=args.test_batch_size, shuffle=False)\n",
    "\n",
    "    #The statistics of the data are decomposed\n",
    "    [mean_vec_x,std_vec_x,mean_vec_edge,std_vec_edge,mean_vec_y,std_vec_y] = stats_list\n",
    "    (mean_vec_x,std_vec_x,mean_vec_edge,std_vec_edge,mean_vec_y,std_vec_y)=(mean_vec_x.to(device),\n",
    "        std_vec_x.to(device),mean_vec_edge.to(device),std_vec_edge.to(device),mean_vec_y.to(device),std_vec_y.to(device))\n",
    "\n",
    "    # build model\n",
    "    num_node_features = dataset[0].x.shape[1]\n",
    "    num_edge_features = dataset[0].edge_attr.shape[1]\n",
    "    num_classes = 1 # the dynamic variables have the shape of 1 (saturation )\n",
    "\n",
    "    # Load the pretrained feature extractor\n",
    "    mgn_model = MeshGraphNet(num_node_features, num_edge_features, args.hidden_dim, num_classes,\n",
    "                        args).to(args.device)\n",
    "    if (args.pre_trained):\n",
    "        # load pre-trained model\n",
    "        assert PATH is not None, \"Pre-trained model is not given!\"\n",
    "        mgn_model.load_state_dict(torch.load(PATH, map_location=args.device))\n",
    "    \n",
    "    gnn_model_summary(mgn_model, args, 'mgn_pretrained')\n",
    "\n",
    "    model = TransferTempoMGN( mgn_model, args.hidden_dim, num_classes,\n",
    "                            args).to(device)\n",
    "\n",
    "    scheduler, opt = build_optimizer(args, model.parameters())\n",
    "    #Show the model parameters\n",
    "    gnn_model_summary(model, args, model_name)\n",
    "\n",
    "    # train\n",
    "    losses = []\n",
    "    test_losses = []\n",
    "    velo_val_losses = []\n",
    "    \n",
    "    best_test_loss = np.inf\n",
    "    best_model = None\n",
    "    for epoch in trange(args.epochs, desc=\"Training\", unit=\"Epochs\"):\n",
    "        total_loss = 0\n",
    "        model.train()\n",
    "        num_loops=0\n",
    "        cost = 0 \n",
    "    \n",
    "        for batch in loader:\n",
    "            #Note that normalization must be done before it's called. The unnormalized\n",
    "            #data needs to be preserved in order to correctly calculate the loss\n",
    "            batch=batch.to(device)\n",
    "            cost = 0 \n",
    "            roll_out_loss = 0\n",
    "            \n",
    "            for num in range(args.rollout_num):\n",
    "                if (num == 0):\n",
    "                    h_0 = torch.zeros(batch.x.shape[0], args.hidden_dim).to(device)\n",
    "                    c_0 = torch.zeros(batch.x.shape[0], args.hidden_dim).to(device)\n",
    "                    batch_tmp = copy.deepcopy(batch)\n",
    "                #print('h_0 {} c_0 {}'.format(h_0.device, c_0.device))\n",
    "                pred, h_0, c_0 = model(batch_tmp, mean_vec_x,std_vec_x,mean_vec_edge,std_vec_edge, h_0, c_0)\n",
    "                loss = model.loss(pred,batch,mean_vec_y,std_vec_y, num)\n",
    "\n",
    "                # Now we are learning a mapping between initial condition and the difference between each timestep\n",
    "                # and initial condition\n",
    "                batch_tmp.x[:, 0] = unnormalize( pred.squeeze(), mean_vec_y[num], std_vec_y[num] )\n",
    "                cost = cost + loss # total loss, later being back-propagated\n",
    "                # Implement a multi-step loss\n",
    "                roll_out_loss += cost.item()\n",
    "                num += 1\n",
    "            \n",
    "            roll_out_loss /= num\n",
    "            cost.backward()         #backpropagate loss\n",
    "            opt.step()\n",
    "            opt.zero_grad()         #zero gradients each time\n",
    "            total_loss += roll_out_loss\n",
    "            num_loops += 1\n",
    "            del batch_tmp\n",
    "            del h_0\n",
    "            del c_0\n",
    "            \n",
    "        total_loss /= num_loops\n",
    "        losses.append(total_loss)\n",
    "\n",
    "        #Every tenth epoch, calculate acceleration test loss and velocity validation loss\n",
    "        if epoch % 10 == 0:\n",
    "            if (args.save_velo_val):\n",
    "                # save saturation evaluation\n",
    "                test_loss, velo_val_rmse = test(test_loader,device,model,mean_vec_x,std_vec_x,mean_vec_edge,\n",
    "                                 std_vec_edge,mean_vec_y,std_vec_y, args.save_velo_val)\n",
    "                velo_val_losses.append(velo_val_rmse.item())\n",
    "            else:\n",
    "                test_loss, _ = test(test_loader,device,model,mean_vec_x,std_vec_x,mean_vec_edge,\n",
    "                                 std_vec_edge,mean_vec_y,std_vec_y, args.save_velo_val)\n",
    "\n",
    "            test_losses.append(test_loss.item())\n",
    "\n",
    "            # saving model\n",
    "            if not os.path.isdir( args.checkpoint_dir ):\n",
    "                os.mkdir(args.checkpoint_dir)\n",
    "\n",
    "            PATH = os.path.join(args.checkpoint_dir, model_name+'.csv')\n",
    "            df.to_csv(PATH,index=False)\n",
    "\n",
    "            #save the model if the current one is better than the previous best\n",
    "            if test_loss < best_test_loss:\n",
    "                best_test_loss = test_loss\n",
    "                best_model = copy.deepcopy(model)\n",
    "\n",
    "        else:\n",
    "            #If not the tenth epoch, append the previously calculated loss to the\n",
    "            #list in order to be able to plot it on the same plot as the training losses\n",
    "            if (args.save_velo_val):\n",
    "              test_losses.append(test_losses[-1])\n",
    "              velo_val_losses.append(velo_val_losses[-1])\n",
    "\n",
    "        if (args.save_velo_val):\n",
    "            df = df.append({'epoch': epoch,'train_loss': losses[-1],\n",
    "                            'test_loss':test_losses[-1],\n",
    "                           'velo_val_loss': velo_val_losses[-1]}, ignore_index=True)\n",
    "        else:\n",
    "            df = df.append({'epoch': epoch, 'train_loss': losses[-1], 'test_loss': test_losses[-1]}, ignore_index=True)\n",
    "        if(epoch%100==0):\n",
    "            if (args.save_velo_val):\n",
    "                print(\"train loss\", str(round(total_loss, 2)),\n",
    "                      \"test loss\", str(round(test_loss.item(), 2)),\n",
    "                      \"velo loss\", str(round(velo_val_rmse.item(), 5)))\n",
    "            else:\n",
    "                print(\"train loss\", str(round(total_loss,2)), \"test loss\", str(round(test_loss.item(),2)))\n",
    "\n",
    "            if(args.save_best_model):\n",
    "                PATH = os.path.join(args.checkpoint_dir, model_name+'.pt')\n",
    "                torch.save(best_model.state_dict(), PATH )\n",
    "\n",
    "    return test_losses, losses, velo_val_losses, best_model, best_test_loss, test_loader"
   ]
  },
  {
   "cell_type": "code",
   "execution_count": 21,
   "metadata": {},
   "outputs": [],
   "source": [
    "def test(loader,device,test_model,\n",
    "         mean_vec_x,std_vec_x,mean_vec_edge,std_vec_edge,mean_vec_y,std_vec_y, is_validation,\n",
    "          delta_t=0.01, save_model_preds=False, model_type=None, loss_weight_list=None):\n",
    "  \n",
    "    '''\n",
    "    Calculates test set losses and validation set errors.\n",
    "    '''\n",
    "    loss_test =0\n",
    "    velo_rmse = 0\n",
    "    num_loops=0\n",
    "\n",
    "    for data in loader:\n",
    "        data=data.to(device)\n",
    "        with torch.no_grad():\n",
    "            cost = 0 \n",
    "            roll_out_loss = 0\n",
    "            velo_rmse_rollout = 0\n",
    "            for num in range(args.rollout_num):\n",
    "\n",
    "                if (num == 0):\n",
    "                    h_0 = torch.zeros(data.x.shape[0], args.hidden_dim).to(device)\n",
    "                    c_0 = torch.zeros(data.x.shape[0], args.hidden_dim).to(device)\n",
    "                    batch_tmp = copy.deepcopy(data)\n",
    "\n",
    "                pred, h_0, c_0 = test_model(batch_tmp, mean_vec_x,std_vec_x,mean_vec_edge,std_vec_edge, h_0, c_0)\n",
    "                loss = test_model.loss(pred, data, mean_vec_y, std_vec_y, num)\n",
    "                \n",
    "                batch_tmp.x[:, 0] = unnormalize( pred.squeeze(), mean_vec_y[num], std_vec_y[num] )\n",
    "                cost = cost +  loss # total loss, later being back-propagated\n",
    "                # Implement a multi-step loss\n",
    "                roll_out_loss += cost\n",
    "\n",
    "                if (is_validation):\n",
    "                    #Like for the MeshGraphNets model, calculate the mask over which we calculate\n",
    "                    #flow loss and add this calculated RMSE value to our val error\n",
    "\n",
    "                    # pred gives normalized saturation increment\n",
    "                    eval_velo =  unnormalize( pred.squeeze(), mean_vec_y[num], std_vec_y[num] )\n",
    "                    gs_velo = data.y[:, num].squeeze()\n",
    "\n",
    "                    #error = torch.sum((eval_velo - gs_velo) ** 2, axis = -1)\n",
    "                    error =  (eval_velo - gs_velo)** 2 \n",
    "                    velo_rmse_rollout += torch.sqrt( torch.mean(error) )\n",
    " \n",
    "                num += 1\n",
    "\n",
    "            roll_out_loss /= num\n",
    "            velo_rmse_rollout /= num\n",
    "            del batch_tmp\n",
    "            del h_0\n",
    "            del c_0\n",
    "            \n",
    "        loss_test += roll_out_loss\n",
    "        velo_rmse += velo_rmse_rollout\n",
    "\n",
    "        num_loops+=1\n",
    "        # if velocity is evaluated, return velo_rmse as 0\n",
    "    return loss_test/num_loops, velo_rmse/num_loops"
   ]
  },
  {
   "cell_type": "markdown",
   "metadata": {
    "id": "SGSQjWxrJW4l"
   },
   "source": [
    "# Let's prepare the model for training!"
   ]
  },
  {
   "cell_type": "markdown",
   "metadata": {
    "id": "xvHQ-UYpWc1N"
   },
   "source": [
    "Specify parameters for model training"
   ]
  },
  {
   "cell_type": "markdown",
   "metadata": {
    "id": "uVmPbh1KN9Dn"
   },
   "source": [
    "## Hyperparameters"
   ]
  },
  {
   "cell_type": "code",
   "execution_count": 32,
   "metadata": {
    "id": "LuWYS5QcJa8k"
   },
   "outputs": [],
   "source": [
    "class objectview(object):\n",
    "    def __init__(self, d):\n",
    "        self.__dict__ = d\n",
    "\n",
    "for args in [\n",
    "        {'model': 'Multistep_LSTM_MGN',  \n",
    "         'data_type': 'PEBI',\n",
    "         'num_layers': 10,\n",
    "         'batch_size': 10, \n",
    "         'test_batch_size': 4,\n",
    "         'hidden_dim': 60, \n",
    "         'epochs': 2000,\n",
    "         'opt': 'adam', \n",
    "         'rollout_num':20,\n",
    "         'opt_scheduler': 'none', \n",
    "         'opt_restart': 0, \n",
    "         'weight_decay': 5e-4, \n",
    "         'lr': 0.001,\n",
    "         'train_size': 180, \n",
    "         'test_size': 20, \n",
    "         'well_weight': 0.600,\n",
    "         'device':'cuda',\n",
    "         'lstm_filter_size':8, \n",
    "         'skip': 5, \n",
    "         'normalized':True,\n",
    "         'pre_trained':False, # Import the trained meshgraphnet one-step model as a feature extractor\n",
    "         'shuffle': True,  # sequence model needs data to be unshuffled\n",
    "         'save_velo_val': True,\n",
    "         'anim_name': '',\n",
    "         'save_best_model': True, \n",
    "         'need_edge_weight': False, # if true using edge embeddings for edge weights, otherwise treating edge as unweighted edges \n",
    "         'checkpoint_dir': './best_models/',\n",
    "          'modelsummary_dir': './model_details/',\n",
    "         'postprocess_dir': './2d_loss_plots/'},\n",
    "    ]:\n",
    "        args = objectview(args)\n",
    "\n",
    "#To ensure reproducibility the best we can, here we control the sources of\n",
    "#randomness by seeding the various random number generators used in this Colab\n",
    "#For more information, see: https://pytorch.org/docs/stable/notes/randomness.html\n",
    "torch.manual_seed(5)  #Torch\n",
    "random.seed(5)        #Python\n",
    "np.random.seed(5)     #NumPy"
   ]
  },
  {
   "cell_type": "markdown",
   "metadata": {
    "id": "C_DDl2zQWgHF"
   },
   "source": [
    "Load the temporal dataset. Each batch contains all meshes at the same timestep"
   ]
  },
  {
   "cell_type": "code",
   "execution_count": 33,
   "metadata": {
    "colab": {
     "base_uri": "https://localhost:8080/"
    },
    "executionInfo": {
     "elapsed": 337,
     "status": "ok",
     "timestamp": 1658843263297,
     "user": {
      "displayName": "Xin Ju",
      "userId": "07431887039181781801"
     },
     "user_tz": 300
    },
    "id": "bsHxhPyAHeK7",
    "outputId": "69a0c785-1bf3-491d-ba7d-08ff085679a8"
   },
   "outputs": [
    {
     "name": "stdout",
     "output_type": "stream",
     "text": [
      "Train size 180; Test size 20; total dataset size 200\n",
      "Train batch size 10; Test batch size 4\n"
     ]
    }
   ],
   "source": [
    "#dataset = extract_data(torch.load(file_path), [0], args.train_size+args.test_size)\n",
    " # train on 5 meshes with 30 timesteps ; test on 1 unseen mesh with 30 timesteps\n",
    "\n",
    "train_mesh = [i for i in range(args.train_size)]\n",
    "\n",
    "test_mesh = [i for i in range(args.train_size, 200)]\n",
    "dataset_train = extract_PEBI_data(torch.load(file_path), train_mesh )\n",
    "dataset_test = extract_PEBI_data(torch.load(file_path), test_mesh )\n",
    "\n",
    "dataset = dataset_train + dataset_test \n",
    "args.train_size = len(dataset_train)\n",
    "args.test_size = len(dataset_test)\n",
    "\n",
    "\n",
    "print( 'Train size {}; Test size {}; total dataset size {}'.format(len(dataset_train), \n",
    "                                                                               len(dataset_test),\n",
    "                                                                               len(dataset)))\n",
    "\n",
    "print( 'Train batch size {}; Test batch size {}'.format( args.batch_size, \n",
    "                                                                               args.test_batch_size))\n"
   ]
  },
  {
   "cell_type": "code",
   "execution_count": 34,
   "metadata": {},
   "outputs": [
    {
     "data": {
      "text/plain": [
       "[Data(x=[1701, 7], edge_index=[2, 9752], edge_attr=[9752, 4], y=[1701, 20], mesh_pos=[1701, 3]),\n",
       " Data(x=[1756, 7], edge_index=[2, 10006], edge_attr=[10006, 4], y=[1756, 20], mesh_pos=[1756, 3]),\n",
       " Data(x=[1660, 7], edge_index=[2, 9588], edge_attr=[9588, 4], y=[1660, 20], mesh_pos=[1660, 3]),\n",
       " Data(x=[1726, 7], edge_index=[2, 9838], edge_attr=[9838, 4], y=[1726, 20], mesh_pos=[1726, 3]),\n",
       " Data(x=[1693, 7], edge_index=[2, 9584], edge_attr=[9584, 4], y=[1693, 20], mesh_pos=[1693, 3]),\n",
       " Data(x=[1670, 7], edge_index=[2, 9548], edge_attr=[9548, 4], y=[1670, 20], mesh_pos=[1670, 3]),\n",
       " Data(x=[1579, 7], edge_index=[2, 9098], edge_attr=[9098, 4], y=[1579, 20], mesh_pos=[1579, 3]),\n",
       " Data(x=[1672, 7], edge_index=[2, 9466], edge_attr=[9466, 4], y=[1672, 20], mesh_pos=[1672, 3]),\n",
       " Data(x=[1675, 7], edge_index=[2, 9532], edge_attr=[9532, 4], y=[1675, 20], mesh_pos=[1675, 3]),\n",
       " Data(x=[1646, 7], edge_index=[2, 9390], edge_attr=[9390, 4], y=[1646, 20], mesh_pos=[1646, 3]),\n",
       " Data(x=[1757, 7], edge_index=[2, 10102], edge_attr=[10102, 4], y=[1757, 20], mesh_pos=[1757, 3]),\n",
       " Data(x=[1677, 7], edge_index=[2, 9582], edge_attr=[9582, 4], y=[1677, 20], mesh_pos=[1677, 3]),\n",
       " Data(x=[1794, 7], edge_index=[2, 10250], edge_attr=[10250, 4], y=[1794, 20], mesh_pos=[1794, 3]),\n",
       " Data(x=[1716, 7], edge_index=[2, 9898], edge_attr=[9898, 4], y=[1716, 20], mesh_pos=[1716, 3]),\n",
       " Data(x=[1664, 7], edge_index=[2, 9568], edge_attr=[9568, 4], y=[1664, 20], mesh_pos=[1664, 3]),\n",
       " Data(x=[1736, 7], edge_index=[2, 9874], edge_attr=[9874, 4], y=[1736, 20], mesh_pos=[1736, 3]),\n",
       " Data(x=[1697, 7], edge_index=[2, 9644], edge_attr=[9644, 4], y=[1697, 20], mesh_pos=[1697, 3]),\n",
       " Data(x=[1686, 7], edge_index=[2, 9750], edge_attr=[9750, 4], y=[1686, 20], mesh_pos=[1686, 3]),\n",
       " Data(x=[1637, 7], edge_index=[2, 9320], edge_attr=[9320, 4], y=[1637, 20], mesh_pos=[1637, 3]),\n",
       " Data(x=[1689, 7], edge_index=[2, 9734], edge_attr=[9734, 4], y=[1689, 20], mesh_pos=[1689, 3])]"
      ]
     },
     "execution_count": 34,
     "metadata": {},
     "output_type": "execute_result"
    }
   ],
   "source": [
    "dataset_test"
   ]
  },
  {
   "cell_type": "markdown",
   "metadata": {
    "id": "VAUDoZx2WhWA"
   },
   "source": [
    "Shuffle the dataset and get the statistics of the dataset"
   ]
  },
  {
   "cell_type": "code",
   "execution_count": 35,
   "metadata": {
    "colab": {
     "base_uri": "https://localhost:8080/"
    },
    "executionInfo": {
     "elapsed": 110,
     "status": "ok",
     "timestamp": 1658843265276,
     "user": {
      "displayName": "Xin Ju",
      "userId": "07431887039181781801"
     },
     "user_tz": 300
    },
    "id": "oA84LhX8P_bw",
    "outputId": "a8c307f4-1556-4b8f-f262-f13cc6c255eb"
   },
   "outputs": [
    {
     "name": "stdout",
     "output_type": "stream",
     "text": [
      "cuda\n"
     ]
    }
   ],
   "source": [
    "if(args.shuffle):\n",
    "  random.shuffle(dataset)\n",
    "\n",
    "stats_list = get_stats(dataset)\n",
    "\n",
    "device = 'cuda' if torch.cuda.is_available() else 'cpu'\n",
    "args.device = device\n",
    "print(device)"
   ]
  },
  {
   "cell_type": "code",
   "execution_count": 36,
   "metadata": {
    "colab": {
     "base_uri": "https://localhost:8080/"
    },
    "executionInfo": {
     "elapsed": 160,
     "status": "ok",
     "timestamp": 1658843266517,
     "user": {
      "displayName": "Xin Ju",
      "userId": "07431887039181781801"
     },
     "user_tz": 300
    },
    "id": "bS44GgKQsaso",
    "outputId": "4f5fe039-9743-4b64-b661-43457285258a"
   },
   "outputs": [
    {
     "data": {
      "text/plain": [
       "[tensor([0.0000e+00, 9.8612e-16, 4.2073e-01, 8.8126e-01, 5.9366e-04, 4.8480e-02,\n",
       "         6.9664e-02]),\n",
       " tensor([1.0000e-08, 1.0000e-08, 9.3847e-02, 3.2348e-01, 2.4358e-02, 2.1478e-01,\n",
       "         2.5458e-01]),\n",
       " tensor([  0.0000,   0.0000,   0.0000, 283.9071]),\n",
       " tensor([1.6595e+02, 3.3743e+02, 1.0000e-08, 2.4657e+02]),\n",
       " tensor([5.9244e-05, 2.8603e-02, 4.3403e-02, 5.6281e-02, 6.4963e-02, 7.3303e-02,\n",
       "         7.9313e-02, 8.5379e-02, 8.9879e-02, 9.4547e-02, 9.8092e-02, 1.0182e-01,\n",
       "         1.0473e-01, 1.0782e-01, 1.1025e-01, 1.1287e-01, 1.1494e-01, 1.1723e-01,\n",
       "         1.1906e-01, 1.2109e-01]),\n",
       " tensor([0.0025, 0.0840, 0.1036, 0.1173, 0.1254, 0.1326, 0.1374, 0.1420, 0.1454,\n",
       "         0.1487, 0.1512, 0.1537, 0.1557, 0.1578, 0.1594, 0.1611, 0.1625, 0.1639,\n",
       "         0.1651, 0.1664])]"
      ]
     },
     "execution_count": 36,
     "metadata": {},
     "output_type": "execute_result"
    }
   ],
   "source": [
    "stats_list"
   ]
  },
  {
   "cell_type": "markdown",
   "metadata": {
    "id": "KLVQVeXxJyO1"
   },
   "source": [
    "# Training\n",
    "\n",
    "Start the training!"
   ]
  },
  {
   "cell_type": "code",
   "execution_count": 37,
   "metadata": {},
   "outputs": [],
   "source": [
    "torch.cuda.empty_cache()"
   ]
  },
  {
   "cell_type": "code",
   "execution_count": 38,
   "metadata": {
    "colab": {
     "base_uri": "https://localhost:8080/"
    },
    "executionInfo": {
     "elapsed": 16229996,
     "status": "ok",
     "timestamp": 1658819562469,
     "user": {
      "displayName": "Xin Ju",
      "userId": "07431887039181781801"
     },
     "user_tz": 300
    },
    "id": "gJVQMscSJ0w3",
    "outputId": "1c96d7e1-c499-4c9d-b07c-c8130aff8065"
   },
   "outputs": [
    {
     "name": "stderr",
     "output_type": "stream",
     "text": [
      "Training:   0%|          | 1/2000 [00:29<16:26:36, 29.61s/Epochs]"
     ]
    },
    {
     "name": "stdout",
     "output_type": "stream",
     "text": [
      "train loss 52.51 test loss 49.62 velo loss 0.11889\n"
     ]
    },
    {
     "name": "stderr",
     "output_type": "stream",
     "text": [
      "Training:   5%|▌         | 101/2000 [45:40<17:09:10, 32.52s/Epochs]"
     ]
    },
    {
     "name": "stdout",
     "output_type": "stream",
     "text": [
      "train loss 33.96 test loss 39.83 velo loss 0.08968\n"
     ]
    },
    {
     "name": "stderr",
     "output_type": "stream",
     "text": [
      "Training:  10%|█         | 201/2000 [1:32:41<13:32:35, 27.10s/Epochs]"
     ]
    },
    {
     "name": "stdout",
     "output_type": "stream",
     "text": [
      "train loss 9.39 test loss 9.52 velo loss 0.05193\n"
     ]
    },
    {
     "name": "stderr",
     "output_type": "stream",
     "text": [
      "Training:  15%|█▌        | 301/2000 [2:17:04<12:48:15, 27.13s/Epochs]"
     ]
    },
    {
     "name": "stdout",
     "output_type": "stream",
     "text": [
      "train loss 6.25 test loss 9.49 velo loss 0.05112\n"
     ]
    },
    {
     "name": "stderr",
     "output_type": "stream",
     "text": [
      "Training:  20%|██        | 401/2000 [3:01:24<12:03:05, 27.13s/Epochs]"
     ]
    },
    {
     "name": "stdout",
     "output_type": "stream",
     "text": [
      "train loss 4.54 test loss 9.18 velo loss 0.0503\n"
     ]
    },
    {
     "name": "stderr",
     "output_type": "stream",
     "text": [
      "Training:  25%|██▌       | 501/2000 [3:45:46<11:16:15, 27.07s/Epochs]"
     ]
    },
    {
     "name": "stdout",
     "output_type": "stream",
     "text": [
      "train loss 4.59 test loss 9.85 velo loss 0.05052\n"
     ]
    },
    {
     "name": "stderr",
     "output_type": "stream",
     "text": [
      "Training:  30%|███       | 601/2000 [4:30:05<10:30:18, 27.03s/Epochs]"
     ]
    },
    {
     "name": "stdout",
     "output_type": "stream",
     "text": [
      "train loss 3.41 test loss 8.64 velo loss 0.04806\n"
     ]
    },
    {
     "name": "stderr",
     "output_type": "stream",
     "text": [
      "Training:  35%|███▌      | 701/2000 [5:14:26<9:48:55, 27.20s/Epochs] "
     ]
    },
    {
     "name": "stdout",
     "output_type": "stream",
     "text": [
      "train loss 3.12 test loss 8.87 velo loss 0.04741\n"
     ]
    },
    {
     "name": "stderr",
     "output_type": "stream",
     "text": [
      "Training:  40%|████      | 801/2000 [5:58:48<9:02:03, 27.13s/Epochs]"
     ]
    },
    {
     "name": "stdout",
     "output_type": "stream",
     "text": [
      "train loss 3.28 test loss 9.76 velo loss 0.04952\n"
     ]
    },
    {
     "name": "stderr",
     "output_type": "stream",
     "text": [
      "Training:  45%|████▌     | 901/2000 [6:43:09<8:16:23, 27.10s/Epochs]"
     ]
    },
    {
     "name": "stdout",
     "output_type": "stream",
     "text": [
      "train loss 2.94 test loss 8.84 velo loss 0.04814\n"
     ]
    },
    {
     "name": "stderr",
     "output_type": "stream",
     "text": [
      "Training:  50%|█████     | 1001/2000 [7:27:29<7:31:04, 27.09s/Epochs]"
     ]
    },
    {
     "name": "stdout",
     "output_type": "stream",
     "text": [
      "train loss 2.3 test loss 8.93 velo loss 0.04672\n"
     ]
    },
    {
     "name": "stderr",
     "output_type": "stream",
     "text": [
      "Training:  55%|█████▌    | 1101/2000 [8:11:50<6:46:20, 27.12s/Epochs]"
     ]
    },
    {
     "name": "stdout",
     "output_type": "stream",
     "text": [
      "train loss 1.92 test loss 9.04 velo loss 0.04752\n"
     ]
    },
    {
     "name": "stderr",
     "output_type": "stream",
     "text": [
      "Training:  60%|██████    | 1201/2000 [8:56:10<6:01:22, 27.14s/Epochs]"
     ]
    },
    {
     "name": "stdout",
     "output_type": "stream",
     "text": [
      "train loss 1.61 test loss 9.46 velo loss 0.04739\n"
     ]
    },
    {
     "name": "stderr",
     "output_type": "stream",
     "text": [
      "Training:  65%|██████▌   | 1301/2000 [9:40:48<5:18:39, 27.35s/Epochs]"
     ]
    },
    {
     "name": "stdout",
     "output_type": "stream",
     "text": [
      "train loss 1.91 test loss 8.91 velo loss 0.04786\n"
     ]
    },
    {
     "name": "stderr",
     "output_type": "stream",
     "text": [
      "Training:  70%|███████   | 1401/2000 [10:25:09<4:30:24, 27.09s/Epochs]"
     ]
    },
    {
     "name": "stdout",
     "output_type": "stream",
     "text": [
      "train loss 1.5 test loss 9.14 velo loss 0.04745\n"
     ]
    },
    {
     "name": "stderr",
     "output_type": "stream",
     "text": [
      "Training:  75%|███████▌  | 1501/2000 [11:09:30<3:44:44, 27.02s/Epochs]"
     ]
    },
    {
     "name": "stdout",
     "output_type": "stream",
     "text": [
      "train loss 1.68 test loss 8.98 velo loss 0.04591\n"
     ]
    },
    {
     "name": "stderr",
     "output_type": "stream",
     "text": [
      "Training:  80%|████████  | 1601/2000 [11:53:49<2:59:55, 27.06s/Epochs]"
     ]
    },
    {
     "name": "stdout",
     "output_type": "stream",
     "text": [
      "train loss 1.65 test loss 9.21 velo loss 0.04825\n"
     ]
    },
    {
     "name": "stderr",
     "output_type": "stream",
     "text": [
      "Training:  85%|████████▌ | 1701/2000 [12:38:08<2:14:51, 27.06s/Epochs]"
     ]
    },
    {
     "name": "stdout",
     "output_type": "stream",
     "text": [
      "train loss 1.38 test loss 8.87 velo loss 0.04656\n"
     ]
    },
    {
     "name": "stderr",
     "output_type": "stream",
     "text": [
      "Training:  90%|█████████ | 1801/2000 [13:22:27<1:29:57, 27.12s/Epochs]"
     ]
    },
    {
     "name": "stdout",
     "output_type": "stream",
     "text": [
      "train loss 1.52 test loss 9.02 velo loss 0.04711\n"
     ]
    },
    {
     "name": "stderr",
     "output_type": "stream",
     "text": [
      "Training:  95%|█████████▌| 1901/2000 [14:06:48<44:42, 27.09s/Epochs]  "
     ]
    },
    {
     "name": "stdout",
     "output_type": "stream",
     "text": [
      "train loss 1.52 test loss 8.9 velo loss 0.04687\n"
     ]
    },
    {
     "name": "stderr",
     "output_type": "stream",
     "text": [
      "Training: 100%|██████████| 2000/2000 [14:50:41<00:00, 26.72s/Epochs]"
     ]
    },
    {
     "name": "stdout",
     "output_type": "stream",
     "text": [
      "Min test set loss: 8.575910568237305\n",
      "Minimum loss: 1.1801764013866582\n",
      "Minimum velocity validation loss: 0.04585757479071617\n"
     ]
    },
    {
     "name": "stderr",
     "output_type": "stream",
     "text": [
      "\n"
     ]
    }
   ],
   "source": [
    "test_losses, losses, velo_val_losses, best_model, best_test_loss, test_loader = train(dataset, device, \n",
    "                                                                                      stats_list, args)\n",
    "\n",
    "print(\"Min test set loss: {0}\".format(min(test_losses)))\n",
    "print(\"Minimum loss: {0}\".format(min(losses)))\n",
    "if (args.save_velo_val):\n",
    "    print(\"Minimum velocity validation loss: {0}\".format(min(velo_val_losses)))"
   ]
  },
  {
   "cell_type": "markdown",
   "metadata": {
    "id": "hYUgp41Zewfa"
   },
   "source": [
    "Let's visualize the results!"
   ]
  },
  {
   "cell_type": "code",
   "execution_count": 40,
   "metadata": {
    "id": "jafGp3Hbe0QL"
   },
   "outputs": [],
   "source": [
    "def save_plots(args, losses, test_losses, velo_val_losses):\n",
    "    \n",
    "    #Define the model name for saving \n",
    "    model_name= args.model + '_data_'+ args.data_type + '_LSTM_k_' + str(args.lstm_filter_size )+ '_well_weight_' + str(args.well_weight) +\\\n",
    "                  '_norm'+ str(args.normalized)+ '_model_nl'+str(args.num_layers)+'_bs'+str(args.batch_size) + \\\n",
    "               '_hd'+str(args.hidden_dim)+'_ep'+str(args.epochs)+'_wd'+str(args.weight_decay) + \\\n",
    "               '_lr'+str(args.lr)+'_shuff_'+str(args.shuffle)+'_tr'+str(args.train_size)+'_te'+str(args.test_size)\n",
    "    \n",
    "    if not os.path.isdir(args.postprocess_dir):\n",
    "        os.mkdir(args.postprocess_dir)\n",
    "\n",
    "    PATH = os.path.join(args.postprocess_dir, model_name + '.pdf')\n",
    "\n",
    "    f = plt.figure()\n",
    "    plt.title('Losses Plot')\n",
    "    plt.plot(losses, label=\"training loss\" + \" - \" + args.model)\n",
    "    plt.plot(test_losses, label=\"test loss\" + \" - \" + args.model)\n",
    "    #if (args.save_velo_val):\n",
    "    #    plt.plot(velo_val_losses, label=\"velocity loss\" + \" - \" + args.model_type)\n",
    "    plt.xlabel('Epoch')\n",
    "    plt.ylabel('Loss')\n",
    "\n",
    "    plt.legend()\n",
    "    plt.show()\n",
    "    f.savefig(PATH, bbox_inches='tight')"
   ]
  },
  {
   "cell_type": "code",
   "execution_count": 41,
   "metadata": {
    "colab": {
     "base_uri": "https://localhost:8080/",
     "height": 295
    },
    "executionInfo": {
     "elapsed": 516,
     "status": "ok",
     "timestamp": 1658712079675,
     "user": {
      "displayName": "Xin Ju",
      "userId": "07431887039181781801"
     },
     "user_tz": 300
    },
    "id": "bnEOXVZme_Nb",
    "outputId": "39d0fa78-546a-42c7-9dd7-1037af5c3e5f"
   },
   "outputs": [
    {
     "data": {
      "image/png": "[encoded data removed]",
      "text/plain": [
       "<Figure size 432x288 with 1 Axes>"
      ]
     },
     "metadata": {},
     "output_type": "display_data"
    }
   ],
   "source": [
    "save_plots(args, losses, test_losses, velo_val_losses)"
   ]
  }
 ],
 "metadata": {
  "accelerator": "GPU",
  "colab": {
   "collapsed_sections": [],
   "machine_shape": "hm",
   "name": "LSTM_MGN_New_Head_normalized.ipynb",
   "provenance": [
    {
     "file_id": "1ckDvF_ukNYpQKOjBiKhM3I5BmVI1K5_v",
     "timestamp": 1639035336373
    }
   ],
   "toc_visible": true
  },
  "gpuClass": "standard",
  "kernelspec": {
   "display_name": "Python 3 (ipykernel)",
   "language": "python",
   "name": "python3"
  },
  "language_info": {
   "codemirror_mode": {
    "name": "ipython",
    "version": 3
   },
   "file_extension": ".py",
   "mimetype": "text/x-python",
   "name": "python",
   "nbconvert_exporter": "python",
   "pygments_lexer": "ipython3",
   "version": "3.10.15"
  }
 },
 "nbformat": 4,
 "nbformat_minor": 4
}
